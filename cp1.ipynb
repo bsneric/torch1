{
 "cells": [
  {
   "cell_type": "code",
   "execution_count": 1,
   "id": "initial_id",
   "metadata": {
    "collapsed": true,
    "ExecuteTime": {
     "end_time": "2024-01-18T13:00:04.274572700Z",
     "start_time": "2024-01-18T12:59:59.564852800Z"
    }
   },
   "outputs": [],
   "source": [
    "import numpy as np\n",
    "from sklearn.linear_model import LinearRegression\n",
    "\n",
    "import torch\n",
    "import torch.optim as optim\n",
    "import torch.nn as nn\n",
    "from torchviz import make_dot"
   ]
  },
  {
   "cell_type": "code",
   "execution_count": 2,
   "outputs": [],
   "source": [
    "true_b=1\n",
    "true_w=2\n",
    "N=100\n",
    "\n",
    "# 生成数据\n",
    "np.random.seed(42)\n",
    "x=np.random.rand(N,1)\n",
    "epsilon=(0.1*np.random.rand(N,1))\n",
    "y=true_b+true_w*x+epsilon"
   ],
   "metadata": {
    "collapsed": false,
    "ExecuteTime": {
     "end_time": "2024-01-18T15:11:28.605976800Z",
     "start_time": "2024-01-18T15:11:28.592019700Z"
    }
   },
   "id": "e6ac11a81c20a1"
  },
  {
   "cell_type": "code",
   "execution_count": 3,
   "outputs": [],
   "source": [
    "# 乱序索引\n",
    "idx=np.arange(N)\n",
    "np.random.shuffle(idx)\n",
    "\n",
    "# 使用前80个索引作为训练数据索引\n",
    "train_idx=idx[:int(N*0.8)]\n",
    "# 使用剩余的20个作为验证数据索引\n",
    "val_idx=idx[int(N*0.8):]\n",
    "\n",
    "# 使用刚才的乱序索引来拆分训练数据集和验证数据集\n",
    "x_train,y_train=x[train_idx],y[train_idx]\n",
    "x_val,y_val=x[val_idx],y[val_idx]"
   ],
   "metadata": {
    "collapsed": false,
    "ExecuteTime": {
     "end_time": "2024-01-18T15:25:36.932748500Z",
     "start_time": "2024-01-18T15:25:36.918655600Z"
    }
   },
   "id": "f585ccfd6d5edcdc"
  },
  {
   "cell_type": "code",
   "execution_count": 4,
   "outputs": [
    {
     "name": "stdout",
     "output_type": "stream",
     "text": [
      "[0.37454012] [0.95071431]\n"
     ]
    }
   ],
   "source": [
    "# 第0步，初始化参数的随机值\n",
    "np.random.seed(42)\n",
    "b=np.random.random(1)\n",
    "w=np.random.random(1)\n",
    "\n",
    "print(b,w)"
   ],
   "metadata": {
    "collapsed": false,
    "ExecuteTime": {
     "end_time": "2024-01-18T15:33:55.573068100Z",
     "start_time": "2024-01-18T15:33:55.544042500Z"
    }
   },
   "id": "c0bf0e2f6aca1d22"
  },
  {
   "cell_type": "code",
   "execution_count": 5,
   "outputs": [],
   "source": [
    "# 第1步，计算模型的预测值-使用前向输出\n",
    "yhat=b+w*x_train"
   ],
   "metadata": {
    "collapsed": false,
    "ExecuteTime": {
     "end_time": "2024-01-18T15:38:07.322001900Z",
     "start_time": "2024-01-18T15:38:07.310484Z"
    }
   },
   "id": "a61eb850e49d3f77"
  },
  {
   "cell_type": "code",
   "execution_count": 7,
   "outputs": [
    {
     "name": "stdout",
     "output_type": "stream",
     "text": [
      "1.4570419026607908\n"
     ]
    }
   ],
   "source": [
    "# 第2步 计算损失值\n",
    "# 我们使用了训练数据集中所有的数据，因此这是一个批量（BATCH）梯度下降方法\n",
    "# 模型预测的差异就是下面计算的差异\n",
    "\n",
    "error=(yhat-y_train) # 这里yhat和y_train是两个数组，因此error是差值的数组\n",
    "\n",
    "# 接下来计算损失值，因为这是一个线性回归，所以我们使用均方差\n",
    "loss=(error**2).mean()\n",
    "print(loss)\n"
   ],
   "metadata": {
    "collapsed": false,
    "ExecuteTime": {
     "end_time": "2024-01-18T15:46:13.179642700Z",
     "start_time": "2024-01-18T15:46:13.170225700Z"
    }
   },
   "id": "a0a80c7f50da3aed"
  },
  {
   "cell_type": "code",
   "execution_count": 8,
   "outputs": [
    {
     "name": "stdout",
     "output_type": "stream",
     "text": [
      "-2.33428293147256 -1.2713249595784388\n"
     ]
    }
   ],
   "source": [
    "# 第3步 计算参数b和w的梯度\n",
    "b_grad=2*error.mean()\n",
    "w_grad=2*(x_train*error).mean()\n",
    "print(b_grad,w_grad)"
   ],
   "metadata": {
    "collapsed": false,
    "ExecuteTime": {
     "end_time": "2024-01-18T15:59:34.238802200Z",
     "start_time": "2024-01-18T15:59:34.225910100Z"
    }
   },
   "id": "5e0710b3c327b124"
  },
  {
   "cell_type": "code",
   "execution_count": 9,
   "outputs": [
    {
     "name": "stdout",
     "output_type": "stream",
     "text": [
      "[0.37454012] [0.95071431]\n",
      "[0.60796841] [1.0778468]\n"
     ]
    }
   ],
   "source": [
    "# 设置学习率\n",
    "lr=0.1\n",
    "print(b,w)\n",
    "# 第4步 使用梯度和学习率来更新参数\n",
    "b=b-lr*b_grad\n",
    "w=w-lr*w_grad\n",
    "\n",
    "print(b,w)"
   ],
   "metadata": {
    "collapsed": false,
    "ExecuteTime": {
     "end_time": "2024-01-18T16:08:56.449388100Z",
     "start_time": "2024-01-18T16:08:56.429725200Z"
    }
   },
   "id": "cc6f985a646d9251"
  },
  {
   "cell_type": "code",
   "execution_count": null,
   "outputs": [],
   "source": [],
   "metadata": {
    "collapsed": false
   },
   "id": "942d722306929192"
  }
 ],
 "metadata": {
  "kernelspec": {
   "display_name": "Python 3",
   "language": "python",
   "name": "python3"
  },
  "language_info": {
   "codemirror_mode": {
    "name": "ipython",
    "version": 2
   },
   "file_extension": ".py",
   "mimetype": "text/x-python",
   "name": "python",
   "nbconvert_exporter": "python",
   "pygments_lexer": "ipython2",
   "version": "2.7.6"
  }
 },
 "nbformat": 4,
 "nbformat_minor": 5
}
