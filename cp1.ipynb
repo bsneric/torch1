{
 "cells": [
  {
   "cell_type": "code",
   "execution_count": 1,
   "id": "initial_id",
   "metadata": {
    "collapsed": true,
    "ExecuteTime": {
     "end_time": "2024-01-18T13:00:04.274572700Z",
     "start_time": "2024-01-18T12:59:59.564852800Z"
    }
   },
   "outputs": [],
   "source": [
    "import numpy as np\n",
    "from sklearn.linear_model import LinearRegression\n",
    "\n",
    "import torch\n",
    "import torch.optim as optim\n",
    "import torch.nn as nn\n",
    "from torchviz import make_dot"
   ]
  },
  {
   "cell_type": "code",
   "execution_count": 2,
   "outputs": [],
   "source": [
    "true_b=1\n",
    "true_w=2\n",
    "N=100\n",
    "\n",
    "# 生成数据\n",
    "np.random.seed(42)\n",
    "x=np.random.rand(N,1)\n",
    "epsilon=(0.1*np.random.rand(N,1))\n",
    "y=true_b+true_w*x+epsilon"
   ],
   "metadata": {
    "collapsed": false,
    "ExecuteTime": {
     "end_time": "2024-01-18T15:11:28.605976800Z",
     "start_time": "2024-01-18T15:11:28.592019700Z"
    }
   },
   "id": "e6ac11a81c20a1"
  },
  {
   "cell_type": "code",
   "execution_count": 3,
   "outputs": [],
   "source": [
    "# 乱序索引\n",
    "idx=np.arange(N)\n",
    "np.random.shuffle(idx)\n",
    "\n",
    "# 使用前80个索引作为训练数据索引\n",
    "train_idx=idx[:int(N*0.8)]\n",
    "# 使用剩余的20个作为验证数据索引\n",
    "val_idx=idx[int(N*0.8):]\n",
    "\n",
    "# 使用刚才的乱序索引来拆分训练数据集和验证数据集\n",
    "x_train,y_train=x[train_idx],y[train_idx]\n",
    "x_val,y_val=x[val_idx],y[val_idx]"
   ],
   "metadata": {
    "collapsed": false,
    "ExecuteTime": {
     "end_time": "2024-01-18T15:25:36.932748500Z",
     "start_time": "2024-01-18T15:25:36.918655600Z"
    }
   },
   "id": "f585ccfd6d5edcdc"
  },
  {
   "cell_type": "code",
   "execution_count": 4,
   "outputs": [
    {
     "name": "stdout",
     "output_type": "stream",
     "text": [
      "[0.37454012] [0.95071431]\n"
     ]
    }
   ],
   "source": [
    "# 第0步，初始化参数的随机值\n",
    "np.random.seed(42)\n",
    "b=np.random.random(1)\n",
    "w=np.random.random(1)\n",
    "\n",
    "print(b,w)"
   ],
   "metadata": {
    "collapsed": false,
    "ExecuteTime": {
     "end_time": "2024-01-18T15:33:55.573068100Z",
     "start_time": "2024-01-18T15:33:55.544042500Z"
    }
   },
   "id": "c0bf0e2f6aca1d22"
  },
  {
   "cell_type": "code",
   "execution_count": 5,
   "outputs": [],
   "source": [
    "# 第1步，计算模型的预测值-使用前向输出\n",
    "yhat=b+w*x_train"
   ],
   "metadata": {
    "collapsed": false,
    "ExecuteTime": {
     "end_time": "2024-01-18T15:38:07.322001900Z",
     "start_time": "2024-01-18T15:38:07.310484Z"
    }
   },
   "id": "a61eb850e49d3f77"
  },
  {
   "cell_type": "code",
   "execution_count": 7,
   "outputs": [
    {
     "name": "stdout",
     "output_type": "stream",
     "text": [
      "1.4570419026607908\n"
     ]
    }
   ],
   "source": [
    "# 第2步 计算损失值\n",
    "# 我们使用了训练数据集中所有的数据，因此这是一个批量（BATCH）梯度下降方法\n",
    "# 模型预测的差异就是下面计算的差异\n",
    "\n",
    "error=(yhat-y_train) # 这里yhat和y_train是两个数组，因此error是差值的数组\n",
    "\n",
    "# 接下来计算损失值，因为这是一个线性回归，所以我们使用均方差\n",
    "loss=(error**2).mean()\n",
    "print(loss)\n"
   ],
   "metadata": {
    "collapsed": false,
    "ExecuteTime": {
     "end_time": "2024-01-18T15:46:13.179642700Z",
     "start_time": "2024-01-18T15:46:13.170225700Z"
    }
   },
   "id": "a0a80c7f50da3aed"
  },
  {
   "cell_type": "code",
   "execution_count": 8,
   "outputs": [
    {
     "name": "stdout",
     "output_type": "stream",
     "text": [
      "-2.33428293147256 -1.2713249595784388\n"
     ]
    }
   ],
   "source": [
    "# 第3步 计算参数b和w的梯度\n",
    "b_grad=2*error.mean()\n",
    "w_grad=2*(x_train*error).mean()\n",
    "print(b_grad,w_grad)"
   ],
   "metadata": {
    "collapsed": false,
    "ExecuteTime": {
     "end_time": "2024-01-18T15:59:34.238802200Z",
     "start_time": "2024-01-18T15:59:34.225910100Z"
    }
   },
   "id": "5e0710b3c327b124"
  },
  {
   "cell_type": "code",
   "execution_count": 9,
   "outputs": [
    {
     "name": "stdout",
     "output_type": "stream",
     "text": [
      "[0.37454012] [0.95071431]\n",
      "[0.60796841] [1.0778468]\n"
     ]
    }
   ],
   "source": [
    "# 设置学习率\n",
    "lr=0.1\n",
    "print(b,w)\n",
    "# 第4步 使用梯度和学习率来更新参数\n",
    "b=b-lr*b_grad\n",
    "w=w-lr*w_grad\n",
    "\n",
    "print(b,w)"
   ],
   "metadata": {
    "collapsed": false,
    "ExecuteTime": {
     "end_time": "2024-01-18T16:08:56.449388100Z",
     "start_time": "2024-01-18T16:08:56.429725200Z"
    }
   },
   "id": "cc6f985a646d9251"
  },
  {
   "cell_type": "code",
   "execution_count": 2,
   "outputs": [
    {
     "name": "stdout",
     "output_type": "stream",
     "text": [
      "[0.49671415] [-0.1382643]\n",
      "[1.05303414] [1.99581323]\n"
     ]
    }
   ],
   "source": [
    "import numpy as np\n",
    "\n",
    "\n",
    "# 生成数据\n",
    "true_b=1\n",
    "true_w=2\n",
    "N=100\n",
    "\n",
    "np.random.seed(42)\n",
    "x=np.random.rand(N,1)\n",
    "epsilon=(0.1*np.random.rand(N,1))\n",
    "y=true_b+true_w*x+epsilon\n",
    "# 乱序索引\n",
    "idx=np.arange(N)\n",
    "np.random.shuffle(idx)\n",
    "\n",
    "# 使用前80个索引作为训练数据索引\n",
    "train_idx=idx[:int(N*0.8)]\n",
    "# 使用剩余的20个作为验证数据索引\n",
    "val_idx=idx[int(N*0.8):]\n",
    "\n",
    "# 使用刚才的乱序索引来拆分训练数据集和验证数据集\n",
    "x_train,y_train=x[train_idx],y[train_idx]\n",
    "x_val,y_val=x[val_idx],y[val_idx]\n",
    "\n",
    "\n",
    "# 第0步：给b和w设置随机初始化值\n",
    "np.random.seed(42)\n",
    "b=np.random.randn(1)\n",
    "w=np.random.randn(1)\n",
    "print(b,w)\n",
    "\n",
    "# 设置学习率\n",
    "lr=0.1\n",
    "# 定义迭代的周期\n",
    "n_epochs=1000\n",
    "\n",
    "for epoch in range(n_epochs):\n",
    "    #第1步：计算模型的预测值-使用前向传输\n",
    "    yhat=b+w*x_train\n",
    "    #第2步：计算损失值。\n",
    "    #我们使用了所有的训练数据，所以这是一个批量梯度下降。\n",
    "    #这里我们计算模型预测和实际值的差异\n",
    "    error=(yhat-y_train)\n",
    "    #这是一个回归函数，所以我们使用均方差来计算损失值\n",
    "    loss=(error**2).mean()\n",
    "    #第3步：计算b和w的梯度\n",
    "    b_grad=2*error.mean()\n",
    "    w_grad=2*(x_train*error).mean()\n",
    "    \n",
    "    #第4步：使用梯度和学习率来更新参数\n",
    "    b=b-lr*b_grad\n",
    "    w=w-lr*w_grad\n",
    "\n",
    "print(b,w)\n",
    "    \n",
    "    \n",
    "\n"
   ],
   "metadata": {
    "collapsed": false,
    "ExecuteTime": {
     "end_time": "2024-01-21T13:13:26.682624Z",
     "start_time": "2024-01-21T13:13:26.619627300Z"
    }
   },
   "id": "942d722306929192"
  },
  {
   "cell_type": "code",
   "execution_count": 3,
   "outputs": [
    {
     "name": "stdout",
     "output_type": "stream",
     "text": [
      "[1.05303354] [1.99581441]\n"
     ]
    }
   ],
   "source": [
    "from sklearn.linear_model import LinearRegression\n",
    "#使用ScikitLearn的线性回归模型来验证我们的梯度下降效果\n",
    "linr=LinearRegression()\n",
    "linr.fit(x_train,y_train)\n",
    "print(linr.intercept_,linr.coef_[0])"
   ],
   "metadata": {
    "collapsed": false,
    "ExecuteTime": {
     "end_time": "2024-01-21T13:23:37.217981Z",
     "start_time": "2024-01-21T13:23:35.944487700Z"
    }
   },
   "id": "eb4dfd53b8055a79"
  },
  {
   "cell_type": "code",
   "execution_count": 4,
   "outputs": [
    {
     "name": "stdout",
     "output_type": "stream",
     "text": [
      "tensor(3.1416)\n",
      "tensor([1, 2, 3])\n",
      "tensor([[1., 1., 1.],\n",
      "        [1., 1., 1.]])\n",
      "tensor([[[ 1.2059,  1.3801,  1.3065,  0.4145],\n",
      "         [ 0.2110,  0.8104,  0.0538,  1.8037],\n",
      "         [ 0.3963,  0.3585,  0.7340,  0.5113]],\n",
      "\n",
      "        [[-0.7215,  2.2712,  0.0635, -0.8904],\n",
      "         [-0.6842, -0.7252,  0.5084,  0.4782],\n",
      "         [ 1.1503, -1.1160,  0.6587, -0.3119]]])\n"
     ]
    }
   ],
   "source": [
    "import torch\n",
    "# 生成一个值为3.14159的标量\n",
    "scalar=torch.tensor(3.14159)\n",
    "# 生成一个数组向量\n",
    "vector=torch.tensor([1,2,3])\n",
    "# 生成一个2*3的矩阵，用1填充，类型是float\n",
    "matrix=torch.ones((2,3),dtype=torch.float)\n",
    "# 生成一个2*3*4的三维数组，即张量，用随机数填充，类型是float\n",
    "tensor=torch.randn((2,3,4),dtype=torch.float)\n",
    "\n",
    "print(scalar)\n",
    "print(vector)\n",
    "print(matrix)\n",
    "print(tensor)"
   ],
   "metadata": {
    "collapsed": false,
    "ExecuteTime": {
     "end_time": "2024-01-21T13:39:15.888060900Z",
     "start_time": "2024-01-21T13:39:13.394874500Z"
    }
   },
   "id": "76ec7a31b5919bdc"
  },
  {
   "cell_type": "code",
   "execution_count": 5,
   "outputs": [
    {
     "name": "stdout",
     "output_type": "stream",
     "text": [
      "torch.Size([2, 3, 4]) torch.Size([2, 3, 4])\n"
     ]
    }
   ],
   "source": [
    "print(tensor.size(),tensor.shape)"
   ],
   "metadata": {
    "collapsed": false,
    "ExecuteTime": {
     "end_time": "2024-01-21T13:41:05.204132500Z",
     "start_time": "2024-01-21T13:41:05.188353300Z"
    }
   },
   "id": "d74eb2405636bacf"
  },
  {
   "cell_type": "code",
   "execution_count": 6,
   "outputs": [
    {
     "name": "stdout",
     "output_type": "stream",
     "text": [
      "torch.Size([]) torch.Size([])\n"
     ]
    }
   ],
   "source": [
    "print(scalar.size(),scalar.shape)"
   ],
   "metadata": {
    "collapsed": false,
    "ExecuteTime": {
     "end_time": "2024-01-21T13:42:53.712315200Z",
     "start_time": "2024-01-21T13:42:53.691773700Z"
    }
   },
   "id": "51d4dc2047a43646"
  },
  {
   "cell_type": "code",
   "execution_count": 7,
   "outputs": [
    {
     "name": "stdout",
     "output_type": "stream",
     "text": [
      "tensor([[1., 1., 2.],\n",
      "        [1., 1., 1.]])\n",
      "tensor([[1., 1., 2., 1., 1., 1.]])\n"
     ]
    }
   ],
   "source": [
    "matrix=torch.ones((2,3),dtype=torch.float)\n",
    "#我们把原来的张量的形状做了改变，但是改变后的张量和原来的是一样的\n",
    "same_matrix=matrix.view(1,6)\n",
    "# 如果我们修改了张量中的某个元素的值\n",
    "same_matrix[0,2]=2\n",
    "# matrix和same_matrix的元素值都会改变\n",
    "print(matrix)\n",
    "print(same_matrix)"
   ],
   "metadata": {
    "collapsed": false,
    "ExecuteTime": {
     "end_time": "2024-01-21T13:50:34.988023300Z",
     "start_time": "2024-01-21T13:50:34.972261Z"
    }
   },
   "id": "31d4ac17c0cb1d3f"
  },
  {
   "cell_type": "code",
   "execution_count": 8,
   "outputs": [
    {
     "name": "stdout",
     "output_type": "stream",
     "text": [
      "tensor([[1., 1., 2.],\n",
      "        [1., 1., 1.]])\n",
      "tensor([[1., 3., 2., 1., 1., 1.]])\n"
     ]
    },
    {
     "name": "stderr",
     "output_type": "stream",
     "text": [
      "C:\\Users\\liuyi\\AppData\\Local\\Temp\\ipykernel_18580\\474334958.py:2: UserWarning: To copy construct from a tensor, it is recommended to use sourceTensor.clone().detach() or sourceTensor.clone().detach().requires_grad_(True), rather than tensor.new_tensor(sourceTensor).\n",
      "  different_matrix=matrix.new_tensor(matrix.view(1,6))\n"
     ]
    }
   ],
   "source": [
    "# 我们可以使用new_tensor()方法来创建一个新的张量\n",
    "different_matrix=matrix.new_tensor(matrix.view(1,6))\n",
    "# 现在，如果我们修改新的张量的值\n",
    "different_matrix[0,1]=3\n",
    "# 原有的张量的值不会受到影响，但是我们会看到pytorch的警告信息\n",
    "# 它提示我们使用clone()方法\n",
    "print(matrix)\n",
    "print(different_matrix)"
   ],
   "metadata": {
    "collapsed": false,
    "ExecuteTime": {
     "end_time": "2024-01-21T13:54:19.498765700Z",
     "start_time": "2024-01-21T13:54:19.480953200Z"
    }
   },
   "id": "6627e48b860f8c7b"
  },
  {
   "cell_type": "code",
   "execution_count": 9,
   "outputs": [
    {
     "name": "stdout",
     "output_type": "stream",
     "text": [
      "tensor([[1., 1., 2.],\n",
      "        [1., 1., 1.]])\n",
      "tensor([[1., 4., 2., 1., 1., 1.]])\n"
     ]
    }
   ],
   "source": [
    "another_matrix=matrix.view(1,6).clone().detach()\n",
    "another_matrix[0,1]=4.\n",
    "print(matrix)\n",
    "print(another_matrix)"
   ],
   "metadata": {
    "collapsed": false,
    "ExecuteTime": {
     "end_time": "2024-01-21T13:58:28.194997900Z",
     "start_time": "2024-01-21T13:58:28.179040500Z"
    }
   },
   "id": "7f919da78a13aaee"
  },
  {
   "cell_type": "code",
   "execution_count": 10,
   "outputs": [
    {
     "data": {
      "text/plain": "(dtype('float64'), torch.float64)"
     },
     "execution_count": 10,
     "metadata": {},
     "output_type": "execute_result"
    }
   ],
   "source": [
    "x_train_tensor=torch.as_tensor(x_train)\n",
    "x_train.dtype,x_train_tensor.dtype"
   ],
   "metadata": {
    "collapsed": false,
    "ExecuteTime": {
     "end_time": "2024-01-21T14:02:40.434865600Z",
     "start_time": "2024-01-21T14:02:40.403276400Z"
    }
   },
   "id": "bc8b1b56ae5320f1"
  },
  {
   "cell_type": "code",
   "execution_count": 11,
   "outputs": [
    {
     "data": {
      "text/plain": "torch.float32"
     },
     "execution_count": 11,
     "metadata": {},
     "output_type": "execute_result"
    }
   ],
   "source": [
    "float_tensor=x_train_tensor.float()\n",
    "float_tensor.dtype"
   ],
   "metadata": {
    "collapsed": false,
    "ExecuteTime": {
     "end_time": "2024-01-21T14:04:50.173198Z",
     "start_time": "2024-01-21T14:04:50.157458600Z"
    }
   },
   "id": "20dc019bc0b6ce07"
  },
  {
   "cell_type": "code",
   "execution_count": 12,
   "outputs": [
    {
     "data": {
      "text/plain": "tensor([1, 0, 3], dtype=torch.int32)"
     },
     "execution_count": 12,
     "metadata": {},
     "output_type": "execute_result"
    }
   ],
   "source": [
    "dummy_array=np.array([1,2,3])\n",
    "dummy_tensor=torch.as_tensor(dummy_array)\n",
    "# 修改numpy数组的元素值\n",
    "dummy_array[1]=0\n",
    "# 张量内的元素值也会被修改\n",
    "dummy_tensor"
   ],
   "metadata": {
    "collapsed": false,
    "ExecuteTime": {
     "end_time": "2024-01-21T14:08:39.982497200Z",
     "start_time": "2024-01-21T14:08:39.972221800Z"
    }
   },
   "id": "75fe68c6de4555ff"
  },
  {
   "cell_type": "code",
   "execution_count": 13,
   "outputs": [
    {
     "data": {
      "text/plain": "array([1, 0, 3])"
     },
     "execution_count": 13,
     "metadata": {},
     "output_type": "execute_result"
    }
   ],
   "source": [
    "dummy_tensor.numpy()"
   ],
   "metadata": {
    "collapsed": false,
    "ExecuteTime": {
     "end_time": "2024-01-21T14:12:09.201967800Z",
     "start_time": "2024-01-21T14:12:09.172178800Z"
    }
   },
   "id": "1c17020210a9fa21"
  },
  {
   "cell_type": "code",
   "execution_count": 16,
   "outputs": [
    {
     "name": "stdout",
     "output_type": "stream",
     "text": [
      "cpu\n"
     ]
    }
   ],
   "source": [
    "device='cuda' if torch.cuda.is_available() else 'cpu'\n",
    "print(device)"
   ],
   "metadata": {
    "collapsed": false,
    "ExecuteTime": {
     "end_time": "2024-01-21T14:23:02.760472900Z",
     "start_time": "2024-01-21T14:23:02.742371700Z"
    }
   },
   "id": "ba69ba0713ae04c8"
  },
  {
   "cell_type": "code",
   "execution_count": 17,
   "outputs": [],
   "source": [
    "n_cudas=torch.cuda.device_count()\n",
    "for i in range(n_cudas):\n",
    "    print(torch.cuda.get_device_name())"
   ],
   "metadata": {
    "collapsed": false,
    "ExecuteTime": {
     "end_time": "2024-01-21T14:27:25.422148600Z",
     "start_time": "2024-01-21T14:27:25.406069Z"
    }
   },
   "id": "8097031d5032df02"
  },
  {
   "cell_type": "code",
   "execution_count": 18,
   "outputs": [
    {
     "data": {
      "text/plain": "tensor([0.5227], dtype=torch.float64)"
     },
     "execution_count": 18,
     "metadata": {},
     "output_type": "execute_result"
    }
   ],
   "source": [
    "gup_tensor=torch.as_tensor(x_train).to(device)\n",
    "gup_tensor[0]"
   ],
   "metadata": {
    "collapsed": false,
    "ExecuteTime": {
     "end_time": "2024-01-21T14:30:44.274847500Z",
     "start_time": "2024-01-21T14:30:44.258758100Z"
    }
   },
   "id": "ffc8a8b93b44beae"
  },
  {
   "cell_type": "code",
   "execution_count": 19,
   "outputs": [],
   "source": [
    "device='cuda' if torch.cuda.is_available() else 'cpu'\n",
    "x_train_tensor=torch.as_tensor(x_train).to(device)\n",
    "y_train_tensor=torch.as_tensor(y_train).to(device)"
   ],
   "metadata": {
    "collapsed": false,
    "ExecuteTime": {
     "end_time": "2024-01-21T14:36:43.582129Z",
     "start_time": "2024-01-21T14:36:43.570554400Z"
    }
   },
   "id": "19bb3177bb32ff17"
  },
  {
   "cell_type": "code",
   "execution_count": 20,
   "outputs": [
    {
     "name": "stdout",
     "output_type": "stream",
     "text": [
      "<class 'numpy.ndarray'> <class 'torch.Tensor'> torch.DoubleTensor\n"
     ]
    }
   ],
   "source": [
    "print(type(x_train),type(x_train_tensor),x_train_tensor.type())"
   ],
   "metadata": {
    "collapsed": false,
    "ExecuteTime": {
     "end_time": "2024-01-21T14:38:16.684511800Z",
     "start_time": "2024-01-21T14:38:16.652673500Z"
    }
   },
   "id": "3be892bac1b343b"
  },
  {
   "cell_type": "code",
   "execution_count": 21,
   "outputs": [],
   "source": [
    "back_to_numpy=x_train_tensor.cpu().numpy()"
   ],
   "metadata": {
    "collapsed": false,
    "ExecuteTime": {
     "end_time": "2024-01-21T14:43:29.432043900Z",
     "start_time": "2024-01-21T14:43:29.415850Z"
    }
   },
   "id": "378e82d86f8db97a"
  },
  {
   "cell_type": "code",
   "execution_count": null,
   "outputs": [],
   "source": [],
   "metadata": {
    "collapsed": false
   },
   "id": "19c8bc1843c327e"
  }
 ],
 "metadata": {
  "kernelspec": {
   "display_name": "Python 3",
   "language": "python",
   "name": "python3"
  },
  "language_info": {
   "codemirror_mode": {
    "name": "ipython",
    "version": 2
   },
   "file_extension": ".py",
   "mimetype": "text/x-python",
   "name": "python",
   "nbconvert_exporter": "python",
   "pygments_lexer": "ipython2",
   "version": "2.7.6"
  }
 },
 "nbformat": 4,
 "nbformat_minor": 5
}
